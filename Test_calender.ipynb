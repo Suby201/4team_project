{
 "cells": [
  {
   "cell_type": "markdown",
   "id": "cc0adfc9",
   "metadata": {},
   "source": [
    "시험 일정 불러오기"
   ]
  },
  {
   "cell_type": "code",
   "execution_count": 42,
   "id": "dd876842",
   "metadata": {},
   "outputs": [
    {
     "data": {
      "text/plain": [
       "{'03.31(월)~04.04(금)': \"'제34회 공인노무사 1차 원서접수,  제25회 소방시설관리사 1차 원서접수'\",\n",
       " '04.01(화)~04.02(수)': \"'기능장 제77회 실기시험 ,  기능사 제1회 실기시험 '\",\n",
       " '04.02(수)': \"'제23회 청소년상담사 필기 합격자 발표'\",\n",
       " '04.05(토)': \"'제22회 농산물품질관리사 1차 ,  제36회 감정평가사 1차 '\",\n",
       " '04.05(토)~04.10(목)': \"'기능사 제2회 필기시험 '\",\n",
       " '04.07(월)~04.10(목)': \"'기술사 제136회 필기시험 원서접수'\",\n",
       " '04.07(월)~04.11(금)': \"'제11회 수산물품질관리사 1차 원서접수,  제11회 손해평가사 1차 원서접수'\",\n",
       " '04.09(수)': \"'제23회 경매사 1차 합격자 발표'\",\n",
       " '04.09(수)~04.12(토)': \"'제1회 국가유산수리기능자(24종목) 실기 '\",\n",
       " '04.10(목)~04.11(금)': \"'제37회 정수시설운영관리사 1차 빈자리 원서접수,  제37회 정수시설운영관리사 2차 빈자리 원서접수'\",\n",
       " '04.11(금)': \"'기능장 제77회 실기시험 합격예정자 발표,  기능사 제1회 실기시험 합격예정자 발표'\",\n",
       " '04.12(토)': \"'제40회 경영지도사 1차 ,  제40회 기술지도사 1차 '\",\n",
       " '04.13(일)~04.14(월)': \"'기술사 제135회 면접시험 빈자리 원서접수,  기사 제1회 실기시험 빈자리 원서접수'\",\n",
       " '04.14(월)~04.17(목)': \"'기사 제2회 필기시험 원서접수'\",\n",
       " '04.14(월)~04.18(금)': \"'제13회 행정사 1차 원서접수'\",\n",
       " '04.16(수)': \"'기능사 제2회 필기시험 합격예정자 발표'\",\n",
       " '04.18(금)': \"'제23회 가맹거래사 1차 합격자 발표,  제42회 관세사 1차 합격자 발표'\",\n",
       " '04.19(토)': \"'기능장 제77회 실기시험 1차 합격자 발표,  기능사 제1회 실기시험 1차 합격자 발표'\",\n",
       " '04.19(토)~04.30(수)': \"'제37회 정수시설운영관리사 1차 ,  제37회 정수시설운영관리사 2차 '\",\n",
       " '04.21(월)~04.24(목)': \"'기술사 제135회 면접시험 ,  기사 제1회 실기시험 '\",\n",
       " '04.21(월)~04.25(금)': \"'기능사 제2회 실기시험 원서접수'\",\n",
       " '04.24(목)~04.25(금)': \"'제62회 변리사 2차 원서접수,  제25회 검수사 면접 원서접수,  제25회 검수사 필기 원서접수,  제25회 검량사 면접 원서접수,  제25회 검량사 필기 원서접수,  제25회 감정사 면접 원서접수,  제25회 감정사 필기 원서접수'\",\n",
       " '04.26(토)': \"'제25회 소방시설관리사 1차 빈자리 원서접수'\",\n",
       " '04.30(수)': \"'제62회 세무사 1차 '\"}"
      ]
     },
     "execution_count": 42,
     "metadata": {},
     "output_type": "execute_result"
    }
   ],
   "source": [
    "import requests\n",
    "from bs4 import BeautifulSoup\n",
    "\n",
    "def search_text(text, list):\n",
    "    #반환할 리스트 생성\n",
    "    r_list = []\n",
    "    for str in list: #list안을 반복\n",
    "        if text in str: #리스트 안에 있는 문자열 중 text 를 포함한 것이 있으면\n",
    "            r_list.append(str) #반환할 리스트에 추가가\n",
    "    \n",
    "    return r_list\n",
    "\n",
    "def make_test_calender(month):\n",
    "    #월 입력 받아서 url에 활용\n",
    "    if month <10:  #url을 만들기 위한 변수 변환환\n",
    "        month_str = f'0{month}'\n",
    "    else :\n",
    "        month_str = f'{month}'\n",
    "    \n",
    "    #월간 시험일정 url\n",
    "    url = f'https://www.q-net.or.kr/crf021.do?id=crf02103&gSite=Q&gId=&schGb=list&schMonth=2025{month_str}01'\n",
    "\n",
    "    req_header = {\n",
    "        \"user-agent\": \"Mozilla/5.0 (Windows NT 10.0; Win64; x64) AppleWebKit/537.36 (KHTML, like Gecko) Chrome/135.0.0.0 Safari/537.36\"\n",
    "    }\n",
    "    res = requests.get(url, headers=req_header)\n",
    "\n",
    "    if res.ok: #응답이 있으면\n",
    "        res.encoding = \"utf-8\"\n",
    "        html = res.text\n",
    "        soup = BeautifulSoup(html, \"html.parser\")\n",
    "        #시험일정을 만들기 위한 p태그 검색\n",
    "        p_tag_list = soup.select(\"th p.month\")\n",
    "        #날짜 정보만 추려서 리스트 생성\n",
    "        schedule_list=[]\n",
    "        for p_tag in p_tag_list:\n",
    "            schedule_list.append(p_tag.text)\n",
    "        #시험명을 찾기 위한 a태그 검색 #type1(기술자격), type2(전문자격)\n",
    "        a_tag_list = soup.select(\"div[class*=type] a\")\n",
    "        # print(a_tag_list)\n",
    "\n",
    "        test_list = []\n",
    "        for a_tag in a_tag_list: #시험명만을 리스트로 만들기 위해 반복문 실행\n",
    "            temp_list = a_tag['onclick'].split(\",\")[1:] #앞에 필요없는 거 버리기\n",
    "            list = temp_list[:-2] #뒤에 날짜 날리기\n",
    "            list = \", \".join(list)\n",
    "            test_list.append(list) #test_list에 요소로 추가\n",
    "        \n",
    "        test_schedule = dict(zip(schedule_list,test_list)) #시험일정과 시험명을 dictionary로 합침\n",
    "        \n",
    "        return test_schedule\n",
    "\n",
    "\n",
    "    else:\n",
    "        print(f'Error code: {res.status_code}')\n",
    "\n",
    "\n",
    "make_test_calender(4)"
   ]
  },
  {
   "cell_type": "markdown",
   "id": "f9e399ea",
   "metadata": {},
   "source": [
    "시험일정 데이터프레임화"
   ]
  },
  {
   "cell_type": "code",
   "execution_count": null,
   "id": "2aaf1e32",
   "metadata": {},
   "outputs": [],
   "source": [
    "import json\n",
    "import os\n",
    "\n",
    "def make_data_folder():\n",
    "    folder_path = os.path.join(os.getcwd(),'data') # 폴더 경로 만들기\n",
    "    os.makedirs(folder_path,exist_ok=True) # 만든 경로에 폴더 생성성\n",
    "month =4\n",
    "tmp_cal = make_test_calender(month)\n",
    "def make_json(month):\n",
    "    with open (f'data/test_schedule_{month}.json','w',encoding='utf-8') as f:\n",
    "        json.dump(tmp_cal,f)\n",
    "\n",
    "make_json(month)"
   ]
  },
  {
   "cell_type": "code",
   "execution_count": 64,
   "id": "ee9cf26c",
   "metadata": {},
   "outputs": [
    {
     "data": {
      "text/html": [
       "<div>\n",
       "<style scoped>\n",
       "    .dataframe tbody tr th:only-of-type {\n",
       "        vertical-align: middle;\n",
       "    }\n",
       "\n",
       "    .dataframe tbody tr th {\n",
       "        vertical-align: top;\n",
       "    }\n",
       "\n",
       "    .dataframe thead th {\n",
       "        text-align: right;\n",
       "    }\n",
       "</style>\n",
       "<table border=\"1\" class=\"dataframe\">\n",
       "  <thead>\n",
       "    <tr style=\"text-align: right;\">\n",
       "      <th></th>\n",
       "      <th>일정</th>\n",
       "      <th>시험명</th>\n",
       "    </tr>\n",
       "  </thead>\n",
       "  <tbody>\n",
       "    <tr>\n",
       "      <th>0</th>\n",
       "      <td>03.31(월)~04.04(금)</td>\n",
       "      <td>'제34회 공인노무사 1차 원서접수,  제25회 소방시설관리사 1차 원서접수'</td>\n",
       "    </tr>\n",
       "    <tr>\n",
       "      <th>1</th>\n",
       "      <td>04.01(화)~04.02(수)</td>\n",
       "      <td>'기능장 제77회 실기시험 ,  기능사 제1회 실기시험 '</td>\n",
       "    </tr>\n",
       "    <tr>\n",
       "      <th>2</th>\n",
       "      <td>04.02(수)</td>\n",
       "      <td>'제23회 청소년상담사 필기 합격자 발표'</td>\n",
       "    </tr>\n",
       "    <tr>\n",
       "      <th>3</th>\n",
       "      <td>04.05(토)</td>\n",
       "      <td>'제22회 농산물품질관리사 1차 ,  제36회 감정평가사 1차 '</td>\n",
       "    </tr>\n",
       "    <tr>\n",
       "      <th>4</th>\n",
       "      <td>04.05(토)~04.10(목)</td>\n",
       "      <td>'기능사 제2회 필기시험 '</td>\n",
       "    </tr>\n",
       "  </tbody>\n",
       "</table>\n",
       "</div>"
      ],
      "text/plain": [
       "                  일정                                          시험명\n",
       "0  03.31(월)~04.04(금)  '제34회 공인노무사 1차 원서접수,  제25회 소방시설관리사 1차 원서접수'\n",
       "1  04.01(화)~04.02(수)             '기능장 제77회 실기시험 ,  기능사 제1회 실기시험 '\n",
       "2           04.02(수)                      '제23회 청소년상담사 필기 합격자 발표'\n",
       "3           04.05(토)         '제22회 농산물품질관리사 1차 ,  제36회 감정평가사 1차 '\n",
       "4  04.05(토)~04.10(목)                              '기능사 제2회 필기시험 '"
      ]
     },
     "execution_count": 64,
     "metadata": {},
     "output_type": "execute_result"
    }
   ],
   "source": [
    "import pandas as pd\n",
    "import json\n",
    "\n",
    "# Load the JSON file as a dictionary\n",
    "def read_json(month):\n",
    "\twith open(f'data/test_schedule_{month}.json', 'r', encoding='utf-8') as f:\n",
    "\t\treturn json.load(f)\n",
    "\n",
    "# Convert the dictionary into a DataFrame\n",
    "schedule_dict = read_json(4)\n",
    "schedule_df = pd.DataFrame(list(schedule_dict.items()), columns=['일정', '시험명'])\n",
    "schedule_df.head()"
   ]
  },
  {
   "cell_type": "markdown",
   "id": "c6e4a746",
   "metadata": {},
   "source": [
    "출력"
   ]
  },
  {
   "cell_type": "code",
   "execution_count": null,
   "id": "bdfca9d2",
   "metadata": {},
   "outputs": [
    {
     "data": {
      "text/html": [
       "<div>\n",
       "<style scoped>\n",
       "    .dataframe tbody tr th:only-of-type {\n",
       "        vertical-align: middle;\n",
       "    }\n",
       "\n",
       "    .dataframe tbody tr th {\n",
       "        vertical-align: top;\n",
       "    }\n",
       "\n",
       "    .dataframe thead th {\n",
       "        text-align: right;\n",
       "    }\n",
       "</style>\n",
       "<table border=\"1\" class=\"dataframe\">\n",
       "  <thead>\n",
       "    <tr style=\"text-align: right;\">\n",
       "      <th></th>\n",
       "      <th>일정</th>\n",
       "      <th>시험명</th>\n",
       "    </tr>\n",
       "  </thead>\n",
       "  <tbody>\n",
       "    <tr>\n",
       "      <th>0</th>\n",
       "      <td>04.13(일)~04.14(월)</td>\n",
       "      <td>'기술사 제135회 면접시험 빈자리 원서접수,  기사 제1회 실기시험 빈자리 원서접수'</td>\n",
       "    </tr>\n",
       "    <tr>\n",
       "      <th>1</th>\n",
       "      <td>04.14(월)~04.17(목)</td>\n",
       "      <td>'기사 제2회 필기시험 원서접수'</td>\n",
       "    </tr>\n",
       "    <tr>\n",
       "      <th>2</th>\n",
       "      <td>04.21(월)~04.24(목)</td>\n",
       "      <td>'기술사 제135회 면접시험 ,  기사 제1회 실기시험 '</td>\n",
       "    </tr>\n",
       "  </tbody>\n",
       "</table>\n",
       "</div>"
      ],
      "text/plain": [
       "                  일정                                               시험명\n",
       "0  04.13(일)~04.14(월)  '기술사 제135회 면접시험 빈자리 원서접수,  기사 제1회 실기시험 빈자리 원서접수'\n",
       "1  04.14(월)~04.17(목)                                '기사 제2회 필기시험 원서접수'\n",
       "2  04.21(월)~04.24(목)                  '기술사 제135회 면접시험 ,  기사 제1회 실기시험 '"
      ]
     },
     "execution_count": 58,
     "metadata": {},
     "output_type": "execute_result"
    }
   ],
   "source": [
    "def print_Df(tag):\n",
    "    test_list = schedule_df['시험명']\n",
    "    wanted = search_text(tag,test_list)\n",
    "    schedule_df[schedule_df['시험명'].isin(wanted)].reset_index(drop=True)\n",
    "\n"
   ]
  }
 ],
 "metadata": {
  "kernelspec": {
   "display_name": "base",
   "language": "python",
   "name": "python3"
  },
  "language_info": {
   "codemirror_mode": {
    "name": "ipython",
    "version": 3
   },
   "file_extension": ".py",
   "mimetype": "text/x-python",
   "name": "python",
   "nbconvert_exporter": "python",
   "pygments_lexer": "ipython3",
   "version": "3.12.7"
  }
 },
 "nbformat": 4,
 "nbformat_minor": 5
}
