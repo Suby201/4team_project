{
 "cells": [
  {
   "cell_type": "markdown",
   "id": "cc0adfc9",
   "metadata": {},
   "source": [
    "##시험 일정 불러오기"
   ]
  },
  {
   "cell_type": "code",
   "execution_count": 1,
   "id": "1f71b92f",
   "metadata": {},
   "outputs": [],
   "source": [
    "import requests\n",
    "from bs4 import BeautifulSoup\n"
   ]
  },
  {
   "cell_type": "markdown",
   "id": "f9e399ea",
   "metadata": {},
   "source": [
    "##저장"
   ]
  },
  {
   "cell_type": "code",
   "execution_count": null,
   "id": "2aaf1e32",
   "metadata": {},
   "outputs": [],
   "source": []
  },
  {
   "cell_type": "markdown",
   "id": "d0f20f4d",
   "metadata": {},
   "source": [
    "##시험일정 데이터프레임화"
   ]
  },
  {
   "cell_type": "code",
   "execution_count": null,
   "id": "41694208",
   "metadata": {},
   "outputs": [],
   "source": []
  },
  {
   "cell_type": "markdown",
   "id": "c6e4a746",
   "metadata": {},
   "source": [
    "##출력"
   ]
  },
  {
   "cell_type": "code",
   "execution_count": null,
   "id": "bdfca9d2",
   "metadata": {},
   "outputs": [],
   "source": []
  }
 ],
 "metadata": {
  "kernelspec": {
   "display_name": "base",
   "language": "python",
   "name": "python3"
  },
  "language_info": {
   "codemirror_mode": {
    "name": "ipython",
    "version": 3
   },
   "file_extension": ".py",
   "mimetype": "text/x-python",
   "name": "python",
   "nbconvert_exporter": "python",
   "pygments_lexer": "ipython3",
   "version": "3.12.7"
  }
 },
 "nbformat": 4,
 "nbformat_minor": 5
}
