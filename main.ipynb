{
 "cells": [
  {
   "cell_type": "code",
   "execution_count": 9,
   "id": "06bedba3",
   "metadata": {},
   "outputs": [
    {
     "name": "stdout",
     "output_type": "stream",
     "text": [
      "Note: you may need to restart the kernel to use updated packages.\n"
     ]
    }
   ],
   "source": [
    "%pip -q show pandas"
   ]
  },
  {
   "cell_type": "code",
   "execution_count": 58,
   "id": "95f4552f",
   "metadata": {},
   "outputs": [
    {
     "name": "stdout",
     "output_type": "stream",
     "text": [
      "pr_df 길이: 6832\n"
     ]
    },
    {
     "name": "stderr",
     "output_type": "stream",
     "text": [
      "<>:7: SyntaxWarning: invalid escape sequence '\\p'\n",
      "<>:7: SyntaxWarning: invalid escape sequence '\\p'\n",
      "C:\\Users\\user\\AppData\\Local\\Temp\\ipykernel_26992\\1794384799.py:7: SyntaxWarning: invalid escape sequence '\\p'\n",
      "  pr_df = pd.read_csv('data\\passing_rate.csv', encoding='EUC-KR')\n"
     ]
    }
   ],
   "source": [
    "import os\n",
    "import re\n",
    "\n",
    "import pandas as pd\n",
    "\n",
    "# 연도별 자격증 합격률 csv 파일 불러오기 ('UTF-8'인코딩이 아닌 'EUC-KR' 인코딩이라 설정)\n",
    "pr_df = pd.read_csv('data\\passing_rate.csv', encoding='EUC-KR')\n",
    "\n",
    "pr_df.columns # Index(['종목별', '항목', '단위', '2019 년', '2020 년', '2021 년', '2022 년', '2023 년','Unnamed: 8'],dtype='object')\n",
    "\n",
    "# passing_rate.index # RangeIndex(start=0, stop=6832, step=1)\n",
    "\n",
    "print(\"pr_df 길이: {}\".format(len(pr_df))) # pr_df 길이: 6832\n"
   ]
  },
  {
   "cell_type": "code",
   "execution_count": 59,
   "id": "c3cdb742",
   "metadata": {},
   "outputs": [
    {
     "data": {
      "text/html": [
       "<div>\n",
       "<style scoped>\n",
       "    .dataframe tbody tr th:only-of-type {\n",
       "        vertical-align: middle;\n",
       "    }\n",
       "\n",
       "    .dataframe tbody tr th {\n",
       "        vertical-align: top;\n",
       "    }\n",
       "\n",
       "    .dataframe thead th {\n",
       "        text-align: right;\n",
       "    }\n",
       "</style>\n",
       "<table border=\"1\" class=\"dataframe\">\n",
       "  <thead>\n",
       "    <tr style=\"text-align: right;\">\n",
       "      <th></th>\n",
       "      <th>종목별</th>\n",
       "      <th>항목</th>\n",
       "      <th>단위</th>\n",
       "      <th>2019 년</th>\n",
       "      <th>2020 년</th>\n",
       "      <th>2021 년</th>\n",
       "      <th>2022 년</th>\n",
       "      <th>2023 년</th>\n",
       "      <th>Unnamed: 8</th>\n",
       "    </tr>\n",
       "  </thead>\n",
       "  <tbody>\n",
       "    <tr>\n",
       "      <th>0</th>\n",
       "      <td>계</td>\n",
       "      <td>필기접수[명]</td>\n",
       "      <td>명</td>\n",
       "      <td>2786759.00</td>\n",
       "      <td>2616011.00</td>\n",
       "      <td>3227486.00</td>\n",
       "      <td>2807962.00</td>\n",
       "      <td>3123934.00</td>\n",
       "      <td>NaN</td>\n",
       "    </tr>\n",
       "    <tr>\n",
       "      <th>1</th>\n",
       "      <td>계</td>\n",
       "      <td>필기응시[명]</td>\n",
       "      <td>명</td>\n",
       "      <td>2204230.00</td>\n",
       "      <td>2052155.00</td>\n",
       "      <td>2475561.00</td>\n",
       "      <td>2079866.00</td>\n",
       "      <td>2302069.00</td>\n",
       "      <td>NaN</td>\n",
       "    </tr>\n",
       "    <tr>\n",
       "      <th>2</th>\n",
       "      <td>계</td>\n",
       "      <td>필기합격[명]</td>\n",
       "      <td>명</td>\n",
       "      <td>1012917.00</td>\n",
       "      <td>982006.00</td>\n",
       "      <td>1140826.00</td>\n",
       "      <td>945713.00</td>\n",
       "      <td>1014306.00</td>\n",
       "      <td>NaN</td>\n",
       "    </tr>\n",
       "    <tr>\n",
       "      <th>3</th>\n",
       "      <td>계</td>\n",
       "      <td>필기합격률[%]</td>\n",
       "      <td>%</td>\n",
       "      <td>45.95</td>\n",
       "      <td>47.85</td>\n",
       "      <td>46.08</td>\n",
       "      <td>45.47</td>\n",
       "      <td>44.06</td>\n",
       "      <td>NaN</td>\n",
       "    </tr>\n",
       "    <tr>\n",
       "      <th>4</th>\n",
       "      <td>계</td>\n",
       "      <td>실기접수[명]</td>\n",
       "      <td>명</td>\n",
       "      <td>1937597.00</td>\n",
       "      <td>1932824.00</td>\n",
       "      <td>2342854.00</td>\n",
       "      <td>2024829.00</td>\n",
       "      <td>1955834.00</td>\n",
       "      <td>NaN</td>\n",
       "    </tr>\n",
       "    <tr>\n",
       "      <th>...</th>\n",
       "      <td>...</td>\n",
       "      <td>...</td>\n",
       "      <td>...</td>\n",
       "      <td>...</td>\n",
       "      <td>...</td>\n",
       "      <td>...</td>\n",
       "      <td>...</td>\n",
       "      <td>...</td>\n",
       "      <td>...</td>\n",
       "    </tr>\n",
       "    <tr>\n",
       "      <th>6827</th>\n",
       "      <td>교육.자연.과학.사회과학</td>\n",
       "      <td>필기합격률[%]</td>\n",
       "      <td>%</td>\n",
       "      <td>NaN</td>\n",
       "      <td>NaN</td>\n",
       "      <td>NaN</td>\n",
       "      <td>NaN</td>\n",
       "      <td>73.00</td>\n",
       "      <td>NaN</td>\n",
       "    </tr>\n",
       "    <tr>\n",
       "      <th>6828</th>\n",
       "      <td>교육.자연.과학.사회과학</td>\n",
       "      <td>실기접수[명]</td>\n",
       "      <td>명</td>\n",
       "      <td>NaN</td>\n",
       "      <td>NaN</td>\n",
       "      <td>NaN</td>\n",
       "      <td>NaN</td>\n",
       "      <td>0.00</td>\n",
       "      <td>NaN</td>\n",
       "    </tr>\n",
       "    <tr>\n",
       "      <th>6829</th>\n",
       "      <td>교육.자연.과학.사회과학</td>\n",
       "      <td>실기응시[명]</td>\n",
       "      <td>명</td>\n",
       "      <td>NaN</td>\n",
       "      <td>NaN</td>\n",
       "      <td>NaN</td>\n",
       "      <td>NaN</td>\n",
       "      <td>0.00</td>\n",
       "      <td>NaN</td>\n",
       "    </tr>\n",
       "    <tr>\n",
       "      <th>6830</th>\n",
       "      <td>교육.자연.과학.사회과학</td>\n",
       "      <td>실기합격[명]</td>\n",
       "      <td>명</td>\n",
       "      <td>NaN</td>\n",
       "      <td>NaN</td>\n",
       "      <td>NaN</td>\n",
       "      <td>NaN</td>\n",
       "      <td>0.00</td>\n",
       "      <td>NaN</td>\n",
       "    </tr>\n",
       "    <tr>\n",
       "      <th>6831</th>\n",
       "      <td>교육.자연.과학.사회과학</td>\n",
       "      <td>실기합격률[%]</td>\n",
       "      <td>%</td>\n",
       "      <td>NaN</td>\n",
       "      <td>NaN</td>\n",
       "      <td>NaN</td>\n",
       "      <td>NaN</td>\n",
       "      <td>0.00</td>\n",
       "      <td>NaN</td>\n",
       "    </tr>\n",
       "  </tbody>\n",
       "</table>\n",
       "<p>6832 rows × 9 columns</p>\n",
       "</div>"
      ],
      "text/plain": [
       "                종목별        항목 단위      2019 년      2020 년      2021 년  \\\n",
       "0                 계   필기접수[명]  명  2786759.00  2616011.00  3227486.00   \n",
       "1                 계   필기응시[명]  명  2204230.00  2052155.00  2475561.00   \n",
       "2                 계   필기합격[명]  명  1012917.00   982006.00  1140826.00   \n",
       "3                 계  필기합격률[%]  %       45.95       47.85       46.08   \n",
       "4                 계   실기접수[명]  명  1937597.00  1932824.00  2342854.00   \n",
       "...             ...       ... ..         ...         ...         ...   \n",
       "6827  교육.자연.과학.사회과학  필기합격률[%]  %         NaN         NaN         NaN   \n",
       "6828  교육.자연.과학.사회과학   실기접수[명]  명         NaN         NaN         NaN   \n",
       "6829  교육.자연.과학.사회과학   실기응시[명]  명         NaN         NaN         NaN   \n",
       "6830  교육.자연.과학.사회과학   실기합격[명]  명         NaN         NaN         NaN   \n",
       "6831  교육.자연.과학.사회과학  실기합격률[%]  %         NaN         NaN         NaN   \n",
       "\n",
       "          2022 년      2023 년  Unnamed: 8  \n",
       "0     2807962.00  3123934.00         NaN  \n",
       "1     2079866.00  2302069.00         NaN  \n",
       "2      945713.00  1014306.00         NaN  \n",
       "3          45.47       44.06         NaN  \n",
       "4     2024829.00  1955834.00         NaN  \n",
       "...          ...         ...         ...  \n",
       "6827         NaN       73.00         NaN  \n",
       "6828         NaN        0.00         NaN  \n",
       "6829         NaN        0.00         NaN  \n",
       "6830         NaN        0.00         NaN  \n",
       "6831         NaN        0.00         NaN  \n",
       "\n",
       "[6832 rows x 9 columns]"
      ]
     },
     "execution_count": 59,
     "metadata": {},
     "output_type": "execute_result"
    }
   ],
   "source": [
    "# 'Unnamed: 8'이라는 필요없는 컬럼 확인\n",
    "pr_df"
   ]
  },
  {
   "cell_type": "code",
   "execution_count": 60,
   "id": "7fc95f39",
   "metadata": {},
   "outputs": [],
   "source": [
    "# 'Unnamed: 8'이라는 필요없는 컬럼 drop\n",
    "pr_df = pr_df.drop(columns='Unnamed: 8')"
   ]
  },
  {
   "cell_type": "code",
   "execution_count": 61,
   "id": "16465509",
   "metadata": {},
   "outputs": [
    {
     "data": {
      "text/html": [
       "<div>\n",
       "<style scoped>\n",
       "    .dataframe tbody tr th:only-of-type {\n",
       "        vertical-align: middle;\n",
       "    }\n",
       "\n",
       "    .dataframe tbody tr th {\n",
       "        vertical-align: top;\n",
       "    }\n",
       "\n",
       "    .dataframe thead th {\n",
       "        text-align: right;\n",
       "    }\n",
       "</style>\n",
       "<table border=\"1\" class=\"dataframe\">\n",
       "  <thead>\n",
       "    <tr style=\"text-align: right;\">\n",
       "      <th></th>\n",
       "      <th>종목별</th>\n",
       "      <th>항목</th>\n",
       "      <th>단위</th>\n",
       "      <th>2019 년</th>\n",
       "      <th>2020 년</th>\n",
       "      <th>2021 년</th>\n",
       "      <th>2022 년</th>\n",
       "      <th>2023 년</th>\n",
       "    </tr>\n",
       "  </thead>\n",
       "  <tbody>\n",
       "    <tr>\n",
       "      <th>0</th>\n",
       "      <td>계</td>\n",
       "      <td>필기접수[명]</td>\n",
       "      <td>명</td>\n",
       "      <td>2786759.00</td>\n",
       "      <td>2616011.00</td>\n",
       "      <td>3227486.00</td>\n",
       "      <td>2807962.00</td>\n",
       "      <td>3123934.00</td>\n",
       "    </tr>\n",
       "    <tr>\n",
       "      <th>1</th>\n",
       "      <td>계</td>\n",
       "      <td>필기응시[명]</td>\n",
       "      <td>명</td>\n",
       "      <td>2204230.00</td>\n",
       "      <td>2052155.00</td>\n",
       "      <td>2475561.00</td>\n",
       "      <td>2079866.00</td>\n",
       "      <td>2302069.00</td>\n",
       "    </tr>\n",
       "    <tr>\n",
       "      <th>2</th>\n",
       "      <td>계</td>\n",
       "      <td>필기합격[명]</td>\n",
       "      <td>명</td>\n",
       "      <td>1012917.00</td>\n",
       "      <td>982006.00</td>\n",
       "      <td>1140826.00</td>\n",
       "      <td>945713.00</td>\n",
       "      <td>1014306.00</td>\n",
       "    </tr>\n",
       "    <tr>\n",
       "      <th>3</th>\n",
       "      <td>계</td>\n",
       "      <td>필기합격률[%]</td>\n",
       "      <td>%</td>\n",
       "      <td>45.95</td>\n",
       "      <td>47.85</td>\n",
       "      <td>46.08</td>\n",
       "      <td>45.47</td>\n",
       "      <td>44.06</td>\n",
       "    </tr>\n",
       "    <tr>\n",
       "      <th>4</th>\n",
       "      <td>계</td>\n",
       "      <td>실기접수[명]</td>\n",
       "      <td>명</td>\n",
       "      <td>1937597.00</td>\n",
       "      <td>1932824.00</td>\n",
       "      <td>2342854.00</td>\n",
       "      <td>2024829.00</td>\n",
       "      <td>1955834.00</td>\n",
       "    </tr>\n",
       "    <tr>\n",
       "      <th>...</th>\n",
       "      <td>...</td>\n",
       "      <td>...</td>\n",
       "      <td>...</td>\n",
       "      <td>...</td>\n",
       "      <td>...</td>\n",
       "      <td>...</td>\n",
       "      <td>...</td>\n",
       "      <td>...</td>\n",
       "    </tr>\n",
       "    <tr>\n",
       "      <th>6827</th>\n",
       "      <td>교육.자연.과학.사회과학</td>\n",
       "      <td>필기합격률[%]</td>\n",
       "      <td>%</td>\n",
       "      <td>NaN</td>\n",
       "      <td>NaN</td>\n",
       "      <td>NaN</td>\n",
       "      <td>NaN</td>\n",
       "      <td>73.00</td>\n",
       "    </tr>\n",
       "    <tr>\n",
       "      <th>6828</th>\n",
       "      <td>교육.자연.과학.사회과학</td>\n",
       "      <td>실기접수[명]</td>\n",
       "      <td>명</td>\n",
       "      <td>NaN</td>\n",
       "      <td>NaN</td>\n",
       "      <td>NaN</td>\n",
       "      <td>NaN</td>\n",
       "      <td>0.00</td>\n",
       "    </tr>\n",
       "    <tr>\n",
       "      <th>6829</th>\n",
       "      <td>교육.자연.과학.사회과학</td>\n",
       "      <td>실기응시[명]</td>\n",
       "      <td>명</td>\n",
       "      <td>NaN</td>\n",
       "      <td>NaN</td>\n",
       "      <td>NaN</td>\n",
       "      <td>NaN</td>\n",
       "      <td>0.00</td>\n",
       "    </tr>\n",
       "    <tr>\n",
       "      <th>6830</th>\n",
       "      <td>교육.자연.과학.사회과학</td>\n",
       "      <td>실기합격[명]</td>\n",
       "      <td>명</td>\n",
       "      <td>NaN</td>\n",
       "      <td>NaN</td>\n",
       "      <td>NaN</td>\n",
       "      <td>NaN</td>\n",
       "      <td>0.00</td>\n",
       "    </tr>\n",
       "    <tr>\n",
       "      <th>6831</th>\n",
       "      <td>교육.자연.과학.사회과학</td>\n",
       "      <td>실기합격률[%]</td>\n",
       "      <td>%</td>\n",
       "      <td>NaN</td>\n",
       "      <td>NaN</td>\n",
       "      <td>NaN</td>\n",
       "      <td>NaN</td>\n",
       "      <td>0.00</td>\n",
       "    </tr>\n",
       "  </tbody>\n",
       "</table>\n",
       "<p>6832 rows × 8 columns</p>\n",
       "</div>"
      ],
      "text/plain": [
       "                종목별        항목 단위      2019 년      2020 년      2021 년  \\\n",
       "0                 계   필기접수[명]  명  2786759.00  2616011.00  3227486.00   \n",
       "1                 계   필기응시[명]  명  2204230.00  2052155.00  2475561.00   \n",
       "2                 계   필기합격[명]  명  1012917.00   982006.00  1140826.00   \n",
       "3                 계  필기합격률[%]  %       45.95       47.85       46.08   \n",
       "4                 계   실기접수[명]  명  1937597.00  1932824.00  2342854.00   \n",
       "...             ...       ... ..         ...         ...         ...   \n",
       "6827  교육.자연.과학.사회과학  필기합격률[%]  %         NaN         NaN         NaN   \n",
       "6828  교육.자연.과학.사회과학   실기접수[명]  명         NaN         NaN         NaN   \n",
       "6829  교육.자연.과학.사회과학   실기응시[명]  명         NaN         NaN         NaN   \n",
       "6830  교육.자연.과학.사회과학   실기합격[명]  명         NaN         NaN         NaN   \n",
       "6831  교육.자연.과학.사회과학  실기합격률[%]  %         NaN         NaN         NaN   \n",
       "\n",
       "          2022 년      2023 년  \n",
       "0     2807962.00  3123934.00  \n",
       "1     2079866.00  2302069.00  \n",
       "2      945713.00  1014306.00  \n",
       "3          45.47       44.06  \n",
       "4     2024829.00  1955834.00  \n",
       "...          ...         ...  \n",
       "6827         NaN       73.00  \n",
       "6828         NaN        0.00  \n",
       "6829         NaN        0.00  \n",
       "6830         NaN        0.00  \n",
       "6831         NaN        0.00  \n",
       "\n",
       "[6832 rows x 8 columns]"
      ]
     },
     "execution_count": 61,
     "metadata": {},
     "output_type": "execute_result"
    }
   ],
   "source": [
    "# 확인\n",
    "pr_df"
   ]
  },
  {
   "cell_type": "code",
   "execution_count": 62,
   "id": "cf15b333",
   "metadata": {},
   "outputs": [
    {
     "data": {
      "text/plain": [
       "종목별\n",
       "안전관리        80\n",
       "정보통신        56\n",
       "정보기술        48\n",
       "영업.판매       48\n",
       "경영.회계.사무    48\n",
       "Name: count, dtype: int64"
      ]
     },
     "execution_count": 62,
     "metadata": {},
     "output_type": "execute_result"
    }
   ],
   "source": [
    "pr_df['종목별'].value_counts().head()\n"
   ]
  },
  {
   "cell_type": "code",
   "execution_count": 63,
   "id": "4a7bd480",
   "metadata": {},
   "outputs": [
    {
     "name": "stdout",
     "output_type": "stream",
     "text": [
      "전체데이터 길이: 6832\n",
      "\n",
      "19년도 결측치: 0.0222\n",
      "20년도 결측치: 0.0222\n",
      "21년도 결측치: 0.0187\n",
      "22년도 결측치: 0.0293\n",
      "23년도 결측치: 0.0105\n"
     ]
    }
   ],
   "source": [
    "# 데이터 결측치 %로 확인\n",
    "print(\"전체데이터 길이: {}\".format(len(pr_df)))\n",
    "print()\n",
    "print(f\"19년도 결측치: {pr_df['2019 년'].isnull().sum()/len(pr_df):.04f}\")\n",
    "print(f\"20년도 결측치: {pr_df['2020 년'].isnull().sum()/len(pr_df):.04f}\")\n",
    "print(f\"21년도 결측치: {pr_df['2021 년'].isnull().sum()/len(pr_df):.04f}\")\n",
    "print(f\"22년도 결측치: {pr_df['2022 년'].isnull().sum()/len(pr_df):.04f}\")\n",
    "print(f\"23년도 결측치: {pr_df['2023 년'].isnull().sum()/len(pr_df):.04f}\")"
   ]
  },
  {
   "cell_type": "code",
   "execution_count": 64,
   "id": "e40eb645",
   "metadata": {},
   "outputs": [],
   "source": [
    "# 결측치 0으로 대체\n",
    "pr_df = pr_df.fillna(0)"
   ]
  },
  {
   "cell_type": "code",
   "execution_count": 65,
   "id": "2aa96596",
   "metadata": {},
   "outputs": [
    {
     "name": "stdout",
     "output_type": "stream",
     "text": [
      "전체 결측값: \n",
      "종목별       0\n",
      "항목        0\n",
      "단위        0\n",
      "2019 년    0\n",
      "2020 년    0\n",
      "2021 년    0\n",
      "2022 년    0\n",
      "2023 년    0\n",
      "dtype: int64\n"
     ]
    }
   ],
   "source": [
    "# 혹시 모르니까 결측값 다시 확인\n",
    "print(f\"전체 결측값: \\n{pr_df.isnull().sum()}\") # 없음"
   ]
  },
  {
   "cell_type": "code",
   "execution_count": null,
   "id": "5efd8a18",
   "metadata": {},
   "outputs": [
    {
     "name": "stdout",
     "output_type": "stream",
     "text": [
      "dataFrame length\n",
      "people_per_df: 5124\n",
      "per_pr_df: 1708\n"
     ]
    }
   ],
   "source": [
    "# pr_df의 합격 인원만 가져오기\n",
    "people_pr_df = pr_df.loc[pr_df['단위'] != '%'].reset_index(drop=True)\n",
    "\n",
    "# pr_df의 합격률만 가져오기\n",
    "per_pr_df = pr_df.loc[pr_df['단위'] == '%'].reset_index(drop=True)\n",
    "\n",
    "# 각 데이터 프레임 길이\n",
    "print(\"dataFrame length\")\n",
    "print(\"people_per_df: {}\\nper_pr_df: {}\".format(len(people_pr_df), len(per_pr_df)))"
   ]
  },
  {
   "cell_type": "code",
   "execution_count": null,
   "id": "5c0e1a13",
   "metadata": {},
   "outputs": [
    {
     "data": {
      "text/plain": [
       "637"
      ]
     },
     "execution_count": 76,
     "metadata": {},
     "output_type": "execute_result"
    }
   ],
   "source": [
    "# 종목별 데이터 갯수\n",
    "len(dict(per_pr_df['종목별'].value_counts()))"
   ]
  },
  {
   "cell_type": "markdown",
   "id": "39cfa489",
   "metadata": {},
   "source": [
    "---"
   ]
  },
  {
   "cell_type": "markdown",
   "id": "5504b4ed",
   "metadata": {},
   "source": [
    "# 연습"
   ]
  },
  {
   "cell_type": "code",
   "execution_count": 125,
   "id": "a8763bf1",
   "metadata": {},
   "outputs": [
    {
     "name": "stdout",
     "output_type": "stream",
     "text": [
      "검색 성공\n"
     ]
    }
   ],
   "source": [
    "# 종목별 컬럼이 정보처리기사 일 때 조회 \n",
    "# pr_df.loc[(pr_df['종목별']=='정보처리기사')&(pr_df['단위']=='%'), ['종목별','항목','2019 년','2020 년','2021 년']].reset_index(drop=True)\n",
    "str = \"정보 처리 기    사\"\n",
    "str_param = str.replace(' ', '')\n",
    "if pr_df['종목별'].str.contains(str_param).any():\n",
    "    print(\"검색 성공\")\n",
    "    pr_df.loc[\n",
    "        (pr_df['종목별'].str.contains(str_param))\n",
    "        &(pr_df['단위']=='%') \n",
    "        &(pr_df['2019 년']!=100)&(pr_df['2020 년']!=100)&(pr_df['2021 년']!=100)\n",
    "        &(pr_df['2019 년']!=0)&(pr_df['2020 년']!=0)&(pr_df['2021 년']!=0)\n",
    "        ,\n",
    "        '종목별':'2021 년'# 대신에 ['종목별','항목','2019 년','2020 년','2021 년'] 이거 써도 됨 # 이거 안쓰면 전체 컬럼 값 출력\n",
    "    ].sort_values(by='2019 년', ascending=True).reset_index(drop=True)\n",
    "else:\n",
    "    print(\"다시 입력하세요\")\n",
    "\n"
   ]
  },
  {
   "cell_type": "code",
   "execution_count": null,
   "id": "3fa9d64b",
   "metadata": {},
   "outputs": [
    {
     "data": {
      "text/html": [
       "<div>\n",
       "<style scoped>\n",
       "    .dataframe tbody tr th:only-of-type {\n",
       "        vertical-align: middle;\n",
       "    }\n",
       "\n",
       "    .dataframe tbody tr th {\n",
       "        vertical-align: top;\n",
       "    }\n",
       "\n",
       "    .dataframe thead th {\n",
       "        text-align: right;\n",
       "    }\n",
       "</style>\n",
       "<table border=\"1\" class=\"dataframe\">\n",
       "  <thead>\n",
       "    <tr style=\"text-align: right;\">\n",
       "      <th></th>\n",
       "      <th>종목별</th>\n",
       "      <th>항목</th>\n",
       "      <th>단위</th>\n",
       "      <th>2019 년</th>\n",
       "      <th>2020 년</th>\n",
       "      <th>2021 년</th>\n",
       "    </tr>\n",
       "  </thead>\n",
       "  <tbody>\n",
       "    <tr>\n",
       "      <th>0</th>\n",
       "      <td>정보처리기사</td>\n",
       "      <td>실기합격률[%]</td>\n",
       "      <td>%</td>\n",
       "      <td>51.40</td>\n",
       "      <td>17.71</td>\n",
       "      <td>30.83</td>\n",
       "    </tr>\n",
       "    <tr>\n",
       "      <th>1</th>\n",
       "      <td>정보처리기사</td>\n",
       "      <td>필기합격률[%]</td>\n",
       "      <td>%</td>\n",
       "      <td>58.17</td>\n",
       "      <td>57.35</td>\n",
       "      <td>63.64</td>\n",
       "    </tr>\n",
       "  </tbody>\n",
       "</table>\n",
       "</div>"
      ],
      "text/plain": [
       "      종목별        항목 단위  2019 년  2020 년  2021 년\n",
       "0  정보처리기사  실기합격률[%]  %   51.40   17.71   30.83\n",
       "1  정보처리기사  필기합격률[%]  %   58.17   57.35   63.64"
      ]
     },
     "execution_count": 129,
     "metadata": {},
     "output_type": "execute_result"
    }
   ],
   "source": [
    "str_param = (\"정보처리기  사\").replace(' ','')\n",
    "\n",
    "pr_df.loc[\n",
    "        (pr_df['종목별'].str.contains(str_param))\n",
    "        &(pr_df['단위']=='%') \n",
    "        &(pr_df['2019 년']!=100)&(pr_df['2020 년']!=100)&(pr_df['2021 년']!=100)\n",
    "        &(pr_df['2019 년']!=0)&(pr_df['2020 년']!=0)&(pr_df['2021 년']!=0)\n",
    "        ,\n",
    "        '종목별':'2021 년' # 이거 대신 ['종목별','항목 ','2019 년','2020 년','2021 년'] 이거도 가능 # 이거 안쓰면 전체 컬럼 값 출력\n",
    "].sort_values(by='2019 년', ascending=True).reset_index(drop=True)\n"
   ]
  }
 ],
 "metadata": {
  "kernelspec": {
   "display_name": "base",
   "language": "python",
   "name": "python3"
  },
  "language_info": {
   "codemirror_mode": {
    "name": "ipython",
    "version": 3
   },
   "file_extension": ".py",
   "mimetype": "text/x-python",
   "name": "python",
   "nbconvert_exporter": "python",
   "pygments_lexer": "ipython3",
   "version": "3.12.7"
  }
 },
 "nbformat": 4,
 "nbformat_minor": 5
}
